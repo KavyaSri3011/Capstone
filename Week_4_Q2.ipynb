{
  "nbformat": 4,
  "nbformat_minor": 0,
  "metadata": {
    "colab": {
      "name": "Week 4 Q2",
      "provenance": [],
      "authorship_tag": "ABX9TyMUbCCyD9G+7hUsAwnFtOKy",
      "include_colab_link": true
    },
    "kernelspec": {
      "name": "python3",
      "display_name": "Python 3"
    },
    "language_info": {
      "name": "python"
    }
  },
  "cells": [
    {
      "cell_type": "markdown",
      "metadata": {
        "id": "view-in-github",
        "colab_type": "text"
      },
      "source": [
        "<a href=\"https://colab.research.google.com/github/KavyaSri3011/Capstone/blob/main/Week_4_Q2.ipynb\" target=\"_parent\"><img src=\"https://colab.research.google.com/assets/colab-badge.svg\" alt=\"Open In Colab\"/></a>"
      ]
    },
    {
      "cell_type": "code",
      "metadata": {
        "id": "OWkvoLSSs-3T"
      },
      "source": [
        ""
      ],
      "execution_count": null,
      "outputs": []
    },
    {
      "cell_type": "markdown",
      "metadata": {
        "id": "-DKsnMy0s_Ye"
      },
      "source": [
        "**The Battle of Neighborhoods | Data Description**\n",
        "\n",
        "Data Description:\n",
        "\n",
        "Data Link: https://en.wikipedia.org/wiki/List_of_postal_codes_of_Canada:_M\n",
        "\n",
        "Will use Scarborough dataset which we scrapped from wikipedia on Week 3. Dataset consisting of latitude and longitude, zip codes.\n",
        "\n",
        "Foursquare API Data:\n",
        "We will need data about different venues in different neighborhoods of that specific borough. In order to gain that information we will use \"Foursquare\" locational information. Foursquare is a location data provider with information about all manner of venues and events within an area of interest. Such information includes venue names, locations, menus and even photos. As such, the foursquare location platform will be used as the sole data source since all the stated required information can be obtained through the API.\n",
        "\n",
        "After finding the list of neighborhoods, we then connect to the Foursquare API to gather information about venues inside each and every neighborhood. For each neighborhood, we have chosen the radius to be 100 meter.\n",
        "\n",
        "The data retrieved from Foursquare contained information of venues within a specified distance of the longitude and latitude of the postcodes. The information obtained per venue as follows:\n",
        "\n",
        "Neighborhood\n",
        "\n",
        "Neighborhood Latitude\n",
        "\n",
        "Neighborhood Longitude\n",
        "\n",
        "Venue\n",
        "\n",
        "Name of the venue e.g. the name of a store or restaurant\n",
        "\n",
        "Venue Latitude\n",
        "\n",
        "Venue Longitude\n",
        "\n",
        "Venue Category\n",
        "\n",
        "\n"
      ]
    }
  ]
}