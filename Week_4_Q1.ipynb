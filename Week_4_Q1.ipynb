{
  "nbformat": 4,
  "nbformat_minor": 0,
  "metadata": {
    "colab": {
      "name": "Week 4 -Q1",
      "provenance": [],
      "authorship_tag": "ABX9TyNDBBMkEO47RSnThn0mQCuD",
      "include_colab_link": true
    },
    "kernelspec": {
      "name": "python3",
      "display_name": "Python 3"
    },
    "language_info": {
      "name": "python"
    }
  },
  "cells": [
    {
      "cell_type": "markdown",
      "metadata": {
        "id": "view-in-github",
        "colab_type": "text"
      },
      "source": [
        "<a href=\"https://colab.research.google.com/github/KavyaSri3011/Capstone/blob/main/Week_4_Q1.ipynb\" target=\"_parent\"><img src=\"https://colab.research.google.com/assets/colab-badge.svg\" alt=\"Open In Colab\"/></a>"
      ]
    },
    {
      "cell_type": "markdown",
      "metadata": {
        "id": "UbHcAOIKsV0K"
      },
      "source": [
        "The Battle of Neighborhoods | Business Proposal | Introduction\n",
        "\n",
        "**Introduction**\n",
        "Background\n",
        "Even with the widespread use of majorly accessible streaming options in the digital age, the vast majority of artists make the largest percent of their income through live shows. A study out of the Northwestern University School of Law published in the Arizona Law Review in 2013 shows that 28% of the respondent artists' income came from Touring/shows/live performance fees. The next highest chunk came from Teaching, which accounted for 22% of their income. With this being a given, it is vitally important that artists select the proper venues when planning a tour to maximize profit and minimize waste due to travel expenses.\n",
        "\n",
        "Problem\n",
        "The data most important for figuring this out would be the popularity of a given genre, in this case Jazz, in any given region; the availability of venues to support the artists' shows in these regions; the venues overall ratings to maximize crowd turnout and enjoyment; and the locality of the top venues together to minimize travel costs across the length of the tour\n",
        "\n",
        "Interest\n",
        "While this particular analysis will focus on Jazz as the genre, the general methods and analysis would be of interest to any artist with a limited budget, seeking to maximize their revenue on a short tour. Assuming these are smaller artists whose main income is music, the minimization of travel costs and maximization of attendance are of utmost importance to ensuring their ability to continue creating and playing for their current fans. They will also need to ensure they tour in areas with sufficient interest in the genre overall so that they can gain new consumers.\n",
        "\n",
        "Data\n",
        "For the main data source, I will be using the Four Square API to search for venues in the Music Venue category with a sub-category of Jazz Club. In order to find the regions with the most interest in the Jazz genre, I will be pulling the Google Trends results for the searches \"Jazz\" and \"Jazz Club\" by US State. Combining these two trends results gives a list of the states with the highest to least jazz popularity.\n",
        "\n",
        "Using these two subsets of Data we should be able to tell which venues in which states the artist should schedule on their tour to maximise their earnings. For example, we can see from the Google Trends ranking of \"Jazz Club\" that Utah has the highest search frequency in the US. Utilizing the Foursquare API, we can check for venues in Utah with the \"Jazz Club\" category ID. Searching near Salt Lake City, we get results looking like this:\n",
        "\n",
        "'venues': [{'id': '4ad4f28ef964a5201ffd20e3', 'name': \"Junior's Tavern\", 'location': {'address': '30 E Broadway', 'crossStreet': 'at S Main St', 'lat': 40.76265, 'lng': -111.889918, 'labeledLatLngs': [{'label': 'display', 'lat': 40.76265, 'lng': -111.889918}], 'distance': 377, 'postalCode': '84111', 'cc': 'US', 'city': 'Salt Lake City', 'state': 'UT', 'country': 'United States', 'formattedAddress': ['30 E Broadway (at S Main St)', 'Salt Lake City, UT 84111', 'United States']}\n",
        "\n",
        "We can take the venue id from the results and run that against the API again to get the venue ratings:\n",
        "\n",
        "'likes': {'count': 18, 'groups': [{'type': 'others', 'count': 18, 'items': []}], 'summary': '18 Likes'}, 'dislike': False, 'ok': False, 'rating': 7.0\n",
        "\n",
        "We can see that this club has 18 likes with an average rating of 7/10. Stacking up the various clubs returned will give us a better picture of which venues to book for the client in order to optimize their schedule."
      ]
    }
  ]
}